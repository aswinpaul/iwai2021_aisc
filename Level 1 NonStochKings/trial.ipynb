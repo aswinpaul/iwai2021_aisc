{
 "cells": [
  {
   "cell_type": "code",
   "execution_count": 1,
   "id": "39b814bf",
   "metadata": {},
   "outputs": [],
   "source": [
    "from env_1_nonstochastic_kings import Environment1,StartandGoal\n",
    "from SophAgent import SophAgentActions\n",
    "from QlearningAgent import QAgent\n",
    "import numpy as np\n",
    "import random as random"
   ]
  },
  {
   "cell_type": "code",
   "execution_count": 2,
   "id": "17f5323e",
   "metadata": {},
   "outputs": [],
   "source": [
    "[startstate,goalstate]=StartandGoal()\n",
    "trials=100000\n",
    "Time_horizon=15\n",
    "T_min=2"
   ]
  },
  {
   "cell_type": "code",
   "execution_count": 3,
   "id": "6593349e",
   "metadata": {},
   "outputs": [],
   "source": [
    "#RandomAgent\n",
    "\n",
    "#Experimenting success rate of RandomAgent from T=1 to T-15\n",
    "Timehorizon=[]\n",
    "RandomagentSR=[]\n",
    "\n",
    "for ii in range(T_min,Time_horizon):\n",
    "    T=ii\n",
    "    score=0\n",
    "    for j in range(trials):\n",
    "    \n",
    "        #episode-start\n",
    "        state=startstate\n",
    "        for i in range(0,T-1):\n",
    "            action=random.randint(0,7)\n",
    "            rew,new_state=Environment1(state,action)\n",
    "            state=new_state\n",
    "            if(new_state==goalstate):\n",
    "                score+=1\n",
    "                break\n",
    "    Timehorizon.append(ii)           \n",
    "    RandomagentSR.append(score/trials)"
   ]
  },
  {
   "cell_type": "code",
   "execution_count": 4,
   "id": "d2e7c702",
   "metadata": {},
   "outputs": [],
   "source": [
    "#Sophisticated Inference Agent from T=1 to T-15\n",
    "\n",
    "SuccessRateSI=[]\n",
    "\n",
    "for ii in range(T_min,Time_horizon):\n",
    "    T=ii\n",
    "    #Retrieving action selection matrix from SophAgent\n",
    "    Qactions=SophAgentActions(T)\n",
    "\n",
    "    score=0\n",
    "    for j in range(trials):\n",
    "    \n",
    "        #episode-start\n",
    "        state=startstate\n",
    "        for i in range(0,T-1):\n",
    "            kingsmoves=[0,1,2,3,4,5,6,7]\n",
    "            action=np.random.choice(kingsmoves,p=Qactions[i,:,state])\n",
    "            rew,new_state=Environment1(state,action)\n",
    "            state=new_state\n",
    "            if(new_state==goalstate):\n",
    "                score+=1\n",
    "                break\n",
    "                \n",
    "    SuccessRateSI.append(score/trials)"
   ]
  },
  {
   "cell_type": "code",
   "execution_count": 5,
   "id": "8463b43d",
   "metadata": {},
   "outputs": [],
   "source": [
    "#Experimenting success rate of Q_Agent from T=1 to T-15 training loops=500\n",
    "SuccessRateQ500=[]\n",
    "training_loops=500\n",
    "for ii in range(T_min,Time_horizon):\n",
    "    T=ii\n",
    "    #Retrieving action selection matrix from SophAgent\n",
    "    QLearned=QAgent(T,training_loops)\n",
    "\n",
    "    score=0\n",
    "    for j in range(trials):\n",
    "    \n",
    "        #episode-start\n",
    "        state=startstate\n",
    "        for i in range(0,T-1):\n",
    "            kingsmoves=[0,1,2,3,4,5,6,7]\n",
    "            action=np.argmax(QLearned[state,:])\n",
    "            rew,new_state=Environment1(state,action)\n",
    "            state=new_state\n",
    "            if(new_state==goalstate):\n",
    "                score+=1\n",
    "                break\n",
    "\n",
    "    SuccessRateQ500.append(score/trials)\n",
    "\n",
    "#Experimenting success rate of Q_Agent from T=1 to T-15 training loops=5000\n",
    "SuccessRateQ5000=[]\n",
    "training_loops=5000\n",
    "for ii in range(T_min,Time_horizon):\n",
    "    T=ii\n",
    "    #Retrieving action selection matrix from SophAgent\n",
    "    QLearned=QAgent(T,training_loops)\n",
    "\n",
    "    score=0\n",
    "    for j in range(trials):\n",
    "    \n",
    "        #episode-start\n",
    "        state=startstate\n",
    "        for i in range(0,T-1):\n",
    "            kingsmoves=[0,1,2,3,4,5,6,7]\n",
    "            action=np.argmax(QLearned[state,:])\n",
    "            rew,new_state=Environment1(state,action)\n",
    "            state=new_state\n",
    "            if(new_state==goalstate):\n",
    "                score+=1\n",
    "                break\n",
    "                \n",
    "    SuccessRateQ5000.append(score/trials)"
   ]
  },
  {
   "cell_type": "code",
   "execution_count": 19,
   "id": "af32d9db",
   "metadata": {},
   "outputs": [
    {
     "name": "stderr",
     "output_type": "stream",
     "text": [
      "The PostScript backend does not support transparency; partially transparent artists will be rendered opaque.\n",
      "The PostScript backend does not support transparency; partially transparent artists will be rendered opaque.\n",
      "The PostScript backend does not support transparency; partially transparent artists will be rendered opaque.\n",
      "The PostScript backend does not support transparency; partially transparent artists will be rendered opaque.\n"
     ]
    },
    {
     "data": {
      "image/png": "[encoded data removed]",
      "text/plain": [
       "<Figure size 1080x360 with 2 Axes>"
      ]
     },
     "metadata": {
      "needs_background": "light"
     },
     "output_type": "display_data"
    }
   ],
   "source": [
    "import matplotlib.pyplot as plt\n",
    "figure, axis = plt.subplots(1, 2,figsize=(15,5))\n",
    "\n",
    "axis[0].plot(Timehorizon,SuccessRateQ500,color='green')\n",
    "axis[0].plot(Timehorizon,SuccessRateSI,color='red')\n",
    "axis[0].legend([\"QLearning500\",\"SophAgent\"])\n",
    "axis[0].set_title(\"Results Level-1\")\n",
    "plt.xlabel(\"Time-horizon\")\n",
    "axis[0].set_xlabel(\"Time-horizon\")\n",
    "axis[0].set_ylabel(\"Success rate over $10^5$ trials\")\n",
    "\n",
    "axis[1].plot(Timehorizon,RandomagentSR,color='cyan')\n",
    "axis[1].plot(Timehorizon,SuccessRateQ5000,color='orange')\n",
    "axis[1].legend([\"RandomAgent\",\"QLearning5K\"])\n",
    "axis[1].set_title(\"Results Level-1\")\n",
    "axis[1].set_xlabel(\"Time-horizon\")\n",
    "\n",
    "plt.savefig('ResultsLevel-1.eps',format='eps',dpi=500,bbox_inches='tight')"
   ]
  },
  {
   "cell_type": "code",
   "execution_count": null,
   "id": "61a4a2be",
   "metadata": {},
   "outputs": [],
   "source": []
  }
 ],
 "metadata": {
  "@webio": {
   "lastCommId": null,
   "lastKernelId": null
  },
  "kernelspec": {
   "display_name": "Python 3",
   "language": "python",
   "name": "python3"
  },
  "language_info": {
   "codemirror_mode": {
    "name": "ipython",
    "version": 3
   },
   "file_extension": ".py",
   "mimetype": "text/x-python",
   "name": "python",
   "nbconvert_exporter": "python",
   "pygments_lexer": "ipython3",
   "version": "3.7.10"
  }
 },
 "nbformat": 4,
 "nbformat_minor": 5
}
