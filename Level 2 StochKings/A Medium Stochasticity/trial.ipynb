{
 "cells": [
  {
   "cell_type": "code",
   "execution_count": 1,
   "id": "315f0392",
   "metadata": {},
   "outputs": [],
   "source": [
    "from env_2_stochastic_medium import Environment2,StartandGoal\n",
    "from SophAgent import SophAgentActions\n",
    "from QlearningAgent import QAgent\n",
    "import numpy as np\n",
    "import random as random"
   ]
  },
  {
   "cell_type": "code",
   "execution_count": 2,
   "id": "8f903fe1",
   "metadata": {},
   "outputs": [],
   "source": [
    "[startstate,goalstate]=StartandGoal()\n",
    "trials=10000\n",
    "Time_horizon=25\n",
    "T_min=2"
   ]
  },
  {
   "cell_type": "code",
   "execution_count": 3,
   "id": "5cc66e9c",
   "metadata": {},
   "outputs": [],
   "source": [
    "#Sophisticated Inference Agent from T=1 to T-15\n",
    "\n",
    "SuccessRateSI=[]\n",
    "Timehorizon=[]\n",
    "for ii in range(T_min,Time_horizon):\n",
    "    T=ii\n",
    "    #Retrieving action selection matrix from SophAgent\n",
    "    Qactions=SophAgentActions(T)\n",
    "\n",
    "    score=0\n",
    "    for j in range(trials):\n",
    "    \n",
    "        #episode-start\n",
    "        state=startstate\n",
    "        for i in range(0,T-1):\n",
    "            kingsmoves=[0,1,2,3,4,5,6,7]\n",
    "            action=np.random.choice(kingsmoves,p=Qactions[i,:,state])\n",
    "            rew,new_state=Environment2(state,action)\n",
    "            state=new_state\n",
    "            if(new_state==goalstate):\n",
    "                score+=1\n",
    "                break\n",
    "    Timehorizon.append(ii)            \n",
    "    SuccessRateSI.append(score/trials)"
   ]
  },
  {
   "cell_type": "code",
   "execution_count": 4,
   "id": "c30b06a2",
   "metadata": {},
   "outputs": [],
   "source": [
    "#Experimenting success rate of Q_Agent from T=1 to T-15 training loops=500\n",
    "SuccessRateQ5K=[]\n",
    "training_loops=5000\n",
    "for ii in range(T_min,Time_horizon):\n",
    "    T=ii\n",
    "    #Retrieving action selection matrix from SophAgent\n",
    "    QLearned=QAgent(T,training_loops)\n",
    "\n",
    "    score=0\n",
    "    for j in range(trials):\n",
    "    \n",
    "        #episode-start\n",
    "        state=startstate\n",
    "        for i in range(0,T-1):\n",
    "            kingsmoves=[0,1,2,3,4,5,6,7]\n",
    "            action=np.argmax(QLearned[state,:])\n",
    "            rew,new_state=Environment2(state,action)\n",
    "            state=new_state\n",
    "            if(new_state==goalstate):\n",
    "                score+=1\n",
    "                break\n",
    "\n",
    "    SuccessRateQ5K.append(score/trials)"
   ]
  },
  {
   "cell_type": "code",
   "execution_count": 5,
   "id": "d94d0a68",
   "metadata": {},
   "outputs": [],
   "source": [
    "#Experimenting success rate of Q_Agent from T=1 to T-15 training loops=5000\n",
    "SuccessRateQ20K=[]\n",
    "training_loops=20000\n",
    "for ii in range(T_min,Time_horizon):\n",
    "    T=ii\n",
    "    #Retrieving action selection matrix from SophAgent\n",
    "    QLearned=QAgent(T,training_loops)\n",
    "\n",
    "    score=0\n",
    "    for j in range(trials):\n",
    "    \n",
    "        #episode-start\n",
    "        state=startstate\n",
    "        for i in range(0,T-1):\n",
    "            kingsmoves=[0,1,2,3,4,5,6,7]\n",
    "            action=np.argmax(QLearned[state,:])\n",
    "            rew,new_state=Environment2(state,action)\n",
    "            state=new_state\n",
    "            if(new_state==goalstate):\n",
    "                score+=1\n",
    "                break\n",
    "                \n",
    "    SuccessRateQ20K.append(score/trials)"
   ]
  },
  {
   "cell_type": "code",
   "execution_count": 6,
   "id": "98200f8e",
   "metadata": {},
   "outputs": [],
   "source": [
    "#Experimenting success rate of Q_Agent from T=1 to T-15 training loops=50000\n",
    "# SuccessRateQ50K=[]\n",
    "# training_loops=50000\n",
    "# for ii in range(T_min,Time_horizon):\n",
    "#     T=ii\n",
    "#     #Retrieving action selection matrix from SophAgent\n",
    "#     QLearned=QAgent(T,training_loops)\n",
    "\n",
    "#     score=0\n",
    "#     for j in range(trials):\n",
    "    \n",
    "#         #episode-start\n",
    "#         state=startstate\n",
    "#         for i in range(0,T-1):\n",
    "#             kingsmoves=[0,1,2,3,4,5,6,7]\n",
    "#             action=np.argmax(QLearned[state,:])\n",
    "#             rew,new_state=Environment2(state,action)\n",
    "#             state=new_state\n",
    "#             if(new_state==goalstate):\n",
    "#                 score+=1\n",
    "#                 break\n",
    "                \n",
    "#     SuccessRateQ50K.append(score/trials)"
   ]
  },
  {
   "cell_type": "code",
   "execution_count": 12,
   "id": "37f39e0e",
   "metadata": {},
   "outputs": [
    {
     "name": "stderr",
     "output_type": "stream",
     "text": [
      "The PostScript backend does not support transparency; partially transparent artists will be rendered opaque.\n",
      "The PostScript backend does not support transparency; partially transparent artists will be rendered opaque.\n"
     ]
    },
    {
     "data": {
      "image/png": "[encoded data removed]",
      "text/plain": [
       "<Figure size 432x288 with 1 Axes>"
      ]
     },
     "metadata": {
      "needs_background": "light"
     },
     "output_type": "display_data"
    }
   ],
   "source": [
    "import matplotlib.pyplot as plt\n",
    "plt.plot(Timehorizon,SuccessRateSI,color='red')\n",
    "plt.plot(Timehorizon,SuccessRateQ5K,color='orange')\n",
    "plt.plot(Timehorizon,SuccessRateQ20K,color='blue')\n",
    "#plt.plot(Timehorizon,SuccessRateQ50K)\n",
    "plt.legend([\"SophAgent\",\"QLearning5K\",\"QLearning20K\"])\n",
    "plt.title(\"Medium stochastic case (Level 2)\")\n",
    "plt.xlabel(\"Time-horizon\")\n",
    "plt.ylabel(\"Success rate over $10^4$ trials\")\n",
    "plt.savefig('ResultsLevel-2B.eps',format='eps', dpi=500, bbox_inches='tight')"
   ]
  }
 ],
 "metadata": {
  "@webio": {
   "lastCommId": null,
   "lastKernelId": null
  },
  "kernelspec": {
   "display_name": "Python 3",
   "language": "python",
   "name": "python3"
  },
  "language_info": {
   "codemirror_mode": {
    "name": "ipython",
    "version": 3
   },
   "file_extension": ".py",
   "mimetype": "text/x-python",
   "name": "python",
   "nbconvert_exporter": "python",
   "pygments_lexer": "ipython3",
   "version": "3.7.10"
  }
 },
 "nbformat": 4,
 "nbformat_minor": 5
}
