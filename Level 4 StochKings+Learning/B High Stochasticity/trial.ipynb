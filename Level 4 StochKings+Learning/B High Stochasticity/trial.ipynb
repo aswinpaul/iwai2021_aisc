{
 "cells": [
  {
   "cell_type": "code",
   "execution_count": 1,
   "id": "5139af31",
   "metadata": {},
   "outputs": [],
   "source": [
    "#Importing Environment and ImpStates\n",
    "from env_2_stochastic_high import Environment2,StartandGoal,ImportDynamics\n",
    "from SophAgent import SophAgentActions\n",
    "from QlearningAgent import QAgent\n",
    "[startstate,goalstate]=StartandGoal()\n",
    "#Btrue is only used for plotting-model Accuracy\n",
    "Btrue=ImportDynamics()"
   ]
  },
  {
   "cell_type": "code",
   "execution_count": 2,
   "id": "b80d8547",
   "metadata": {},
   "outputs": [],
   "source": [
    "import numpy as np\n",
    "import math\n",
    "import random\n",
    "\n",
    "#startstate\n",
    "start=startstate\n",
    "#goal-state\n",
    "goal=goalstate\n",
    "\n",
    "#Paramters\n",
    "numS=70\n",
    "numA=8\n",
    "T_min=2\n",
    "T_max=30"
   ]
  },
  {
   "cell_type": "code",
   "execution_count": 3,
   "id": "4def2d39",
   "metadata": {},
   "outputs": [],
   "source": [
    "def softmax(x):\n",
    "    e_x = np.exp(x - np.max(x))\n",
    "    return e_x / e_x.sum()"
   ]
  },
  {
   "cell_type": "code",
   "execution_count": 4,
   "id": "bacb9060",
   "metadata": {},
   "outputs": [],
   "source": [
    "#Experimenting success rate of Q_Agent from T=1 to T-15 training loops=5000\n",
    "SuccessRateQ10K=[]\n",
    "training_loops=10000\n",
    "test_trials=1000\n",
    "for ii in range(T_min,T_max):\n",
    "    T=ii\n",
    "    #Retrieving action selection matrix from SophAgent\n",
    "    QLearned=QAgent(T,training_loops)\n",
    "\n",
    "    score=0\n",
    "    for j in range(test_trials):\n",
    "    \n",
    "        #episode-start\n",
    "        state=startstate\n",
    "        for i in range(0,T-1):\n",
    "            kingsmoves=[0,1,2,3,4,5,6,7]\n",
    "            action=np.argmax(QLearned[state,:])\n",
    "            rew,new_state=Environment2(state,action)\n",
    "            state=new_state\n",
    "            if(new_state==goalstate):\n",
    "                score+=1\n",
    "                break\n",
    "                \n",
    "    SuccessRateQ10K.append(score/test_trials)"
   ]
  },
  {
   "cell_type": "code",
   "execution_count": 5,
   "id": "5a0d1bee",
   "metadata": {},
   "outputs": [],
   "source": [
    "#Experimenting success rate of Q_Agent from T=1 to T-15 training loops=5000\n",
    "SuccessRateQ20K=[]\n",
    "training_loops=20000\n",
    "test_trials=1000\n",
    "for ii in range(T_min,T_max):\n",
    "    T=ii\n",
    "    #Retrieving action selection matrix from SophAgent\n",
    "    QLearned=QAgent(T,training_loops)\n",
    "\n",
    "    score=0\n",
    "    for j in range(test_trials):\n",
    "    \n",
    "        #episode-start\n",
    "        state=startstate\n",
    "        for i in range(0,T-1):\n",
    "            kingsmoves=[0,1,2,3,4,5,6,7]\n",
    "            action=np.argmax(QLearned[state,:])\n",
    "            rew,new_state=Environment2(state,action)\n",
    "            state=new_state\n",
    "            if(new_state==goalstate):\n",
    "                score+=1\n",
    "                break\n",
    "                \n",
    "    SuccessRateQ20K.append(score/test_trials)"
   ]
  },
  {
   "cell_type": "code",
   "execution_count": 6,
   "id": "008a6952",
   "metadata": {},
   "outputs": [],
   "source": [
    "#Learning\n",
    "trials=5000\n",
    "b=np.zeros((numA,numS,numS))\n",
    "Blearned=np.zeros((numS,numA,numS))\n",
    "\n",
    "Time_horizon=[]\n",
    "modeldeviation5K=[]\n",
    "successrate5K=[]\n",
    "\n",
    "for jj in range(T_min,T_max):\n",
    "    T=jj\n",
    "    Time_horizon.append(jj)\n",
    "    for ii in range(trials):\n",
    "\n",
    "        act=np.zeros((T-1))\n",
    "        stmo=np.zeros((T-1))\n",
    "        st=np.zeros((T-1))\n",
    "\n",
    "        state=startstate\n",
    "        for i in range(T-1):\n",
    "            action=random.randint(0,7)\n",
    "            act[i]=action\n",
    "            stmo[i]=state\n",
    "            rew,next_state=Environment2(state,action)\n",
    "            st[i]=next_state\n",
    "            state=next_state\n",
    "\n",
    "        for i in range(numA):\n",
    "            for j in range(T-1):\n",
    "                for k in range(numA):\n",
    "                    if(i==act[j]):\n",
    "                        stvec=np.zeros((numS,1))\n",
    "                        stvec[int(st[j])]=1\n",
    "                        stmovec=np.zeros((1,numS))\n",
    "                        stmovec[0,int(stmo[j])]=1\n",
    "                        b[i,:,:]+=0.125*np.kron(stvec,stmovec)\n",
    "\n",
    "        for i in range(numA):\n",
    "            for j in range(numS):\n",
    "                Blearned[j,i,:]=softmax(b[i,:,j])\n",
    "\n",
    "    modeldeviation5K.append(np.linalg.norm(Blearned-Btrue))\n",
    "\n",
    "    Qpi=SophAgentActions(T,Blearned)\n",
    "\n",
    "    test_trials=1000\n",
    "    score=0\n",
    "    for ii in range(test_trials):\n",
    "        state=startstate\n",
    "        for i in range(T-1):\n",
    "            action=np.random.choice([0,1,2,3,4,5,6,7],p=Qpi[i,:,state])\n",
    "            rew,next_state=Environment2(state,action)\n",
    "\n",
    "            #print(state,action)\n",
    "            state=next_state\n",
    "            if(state==goalstate):\n",
    "                score+=1\n",
    "                break\n",
    "    successrate5K.append(score/test_trials)"
   ]
  },
  {
   "cell_type": "code",
   "execution_count": 7,
   "id": "1cf4000e",
   "metadata": {},
   "outputs": [],
   "source": [
    "#Learning\n",
    "trials=10000\n",
    "b=np.zeros((numA,numS,numS))\n",
    "Blearned=np.zeros((numS,numA,numS))\n",
    "\n",
    "modeldeviation10K=[]\n",
    "successrate10K=[]\n",
    "\n",
    "for jj in range(T_min,T_max):\n",
    "    T=jj\n",
    "    for ii in range(trials):\n",
    "\n",
    "        act=np.zeros((T-1))\n",
    "        stmo=np.zeros((T-1))\n",
    "        st=np.zeros((T-1))\n",
    "\n",
    "        state=startstate\n",
    "        for i in range(T-1):\n",
    "            action=random.randint(0,7)\n",
    "            act[i]=action\n",
    "            stmo[i]=state\n",
    "            rew,next_state=Environment2(state,action)\n",
    "            st[i]=next_state\n",
    "            state=next_state\n",
    "\n",
    "        for i in range(numA):\n",
    "            for j in range(T-1):\n",
    "                for k in range(numA):\n",
    "                    if(i==act[j]):\n",
    "                        stvec=np.zeros((numS,1))\n",
    "                        stvec[int(st[j])]=1\n",
    "                        stmovec=np.zeros((1,numS))\n",
    "                        stmovec[0,int(stmo[j])]=1\n",
    "                        b[i,:,:]+=0.125*np.kron(stvec,stmovec)\n",
    "\n",
    "        for i in range(numA):\n",
    "            for j in range(numS):\n",
    "                Blearned[j,i,:]=softmax(b[i,:,j])\n",
    "\n",
    "    modeldeviation10K.append(np.linalg.norm(Blearned-Btrue))\n",
    "\n",
    "    Qpi=SophAgentActions(T,Blearned)\n",
    "\n",
    "    test_trials=10000\n",
    "    score=0\n",
    "    for ii in range(test_trials):\n",
    "        state=startstate\n",
    "        for i in range(T-1):\n",
    "            action=np.random.choice([0,1,2,3,4,5,6,7],p=Qpi[i,:,state])\n",
    "            rew,next_state=Environment2(state,action)\n",
    "\n",
    "            #print(state,action)\n",
    "            state=next_state\n",
    "            if(state==goalstate):\n",
    "                score+=1\n",
    "                break\n",
    "    successrate10K.append(score/test_trials)"
   ]
  },
  {
   "cell_type": "code",
   "execution_count": 12,
   "id": "1a2b42d6",
   "metadata": {},
   "outputs": [
    {
     "name": "stderr",
     "output_type": "stream",
     "text": [
      "The PostScript backend does not support transparency; partially transparent artists will be rendered opaque.\n",
      "The PostScript backend does not support transparency; partially transparent artists will be rendered opaque.\n"
     ]
    },
    {
     "data": {
      "image/png": "[encoded data removed]",
      "text/plain": [
       "<Figure size 432x288 with 1 Axes>"
      ]
     },
     "metadata": {
      "needs_background": "light"
     },
     "output_type": "display_data"
    }
   ],
   "source": [
    "import matplotlib.pyplot as plt\n",
    "plt.plot(Time_horizon,successrate5K,linestyle='--',color='red')\n",
    "plt.plot(Time_horizon,successrate10K,linestyle='-',color='red')\n",
    "plt.plot(Time_horizon,SuccessRateQ10K,color='black')\n",
    "plt.plot(Time_horizon,SuccessRateQ20K,color='blue')\n",
    "plt.legend([\"SophAgent (5K B-updates)\",\"SophAgent (10K B-updates)\",\"QLearning10K\",\"QLearning20K\"])\n",
    "plt.title(\"High stochastic case (Level 4)\")\n",
    "plt.xlabel(\"Time-horizon\")\n",
    "plt.ylabel(\"Success rate over $10^4$ trials\")\n",
    "plt.savefig('ResultsLevel-4CA.eps',format='eps', dpi=500, bbox_inches='tight')"
   ]
  },
  {
   "cell_type": "code",
   "execution_count": 13,
   "id": "ba9fd7be",
   "metadata": {},
   "outputs": [
    {
     "name": "stderr",
     "output_type": "stream",
     "text": [
      "The PostScript backend does not support transparency; partially transparent artists will be rendered opaque.\n",
      "The PostScript backend does not support transparency; partially transparent artists will be rendered opaque.\n"
     ]
    },
    {
     "data": {
      "image/png": "[encoded data removed]",
      "text/plain": [
       "<Figure size 432x288 with 1 Axes>"
      ]
     },
     "metadata": {
      "needs_background": "light"
     },
     "output_type": "display_data"
    }
   ],
   "source": [
    "plt.plot(Time_horizon,modeldeviation5K,linestyle='--',color='red')\n",
    "plt.plot(Time_horizon,modeldeviation10K,linestyle='-',color='red')\n",
    "plt.legend([\"Model deviation 5K B-updates\", \"Model deviation 10K B-updates\"])\n",
    "plt.title(\"Model deviation (High Stochastic case)\")\n",
    "plt.xlabel(\"Time-horizon\")\n",
    "plt.ylabel(\"Model deviation  $(||B_{Learned} - B_{true}||)$\")\n",
    "plt.savefig('ResultsLevel-4CB.eps',format='eps', dpi=500, bbox_inches='tight')"
   ]
  }
 ],
 "metadata": {
  "@webio": {
   "lastCommId": null,
   "lastKernelId": null
  },
  "kernelspec": {
   "display_name": "Python 3",
   "language": "python",
   "name": "python3"
  },
  "language_info": {
   "codemirror_mode": {
    "name": "ipython",
    "version": 3
   },
   "file_extension": ".py",
   "mimetype": "text/x-python",
   "name": "python",
   "nbconvert_exporter": "python",
   "pygments_lexer": "ipython3",
   "version": "3.7.10"
  }
 },
 "nbformat": 4,
 "nbformat_minor": 5
}
