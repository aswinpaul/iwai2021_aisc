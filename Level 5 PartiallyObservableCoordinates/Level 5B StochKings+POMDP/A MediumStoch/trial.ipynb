{
 "cells": [
  {
   "cell_type": "code",
   "execution_count": 1,
   "id": "85e6ad66",
   "metadata": {},
   "outputs": [],
   "source": [
    "from env_2_stochastic_medium import Environment3,StartandGoal,ImportDynamics,statetocor\n",
    "import numpy as np"
   ]
  },
  {
   "cell_type": "code",
   "execution_count": 2,
   "id": "4bca57b0",
   "metadata": {},
   "outputs": [],
   "source": [
    "from QlearningAgent import QAgent"
   ]
  },
  {
   "cell_type": "code",
   "execution_count": 3,
   "id": "2073cc76",
   "metadata": {},
   "outputs": [],
   "source": [
    "[startstate,goalstate]=StartandGoal()\n",
    "numX=7\n",
    "numY=10\n",
    "numA=8\n",
    "start_x,start_y=statetocor(startstate)\n",
    "goal_x,goal_y=statetocor(goalstate)"
   ]
  },
  {
   "cell_type": "code",
   "execution_count": 4,
   "id": "f420eb41",
   "metadata": {},
   "outputs": [],
   "source": [
    "T_max=11\n",
    "T_min=2"
   ]
  },
  {
   "cell_type": "code",
   "execution_count": 5,
   "id": "f4678460",
   "metadata": {},
   "outputs": [],
   "source": [
    "#Experimenting success rate of Q_Agent from T=1 to T-15 training loops=5000\n",
    "SuccessRateQ5K=[]\n",
    "Time_horizon=[]\n",
    "\n",
    "training_loops=5000\n",
    "test_trials=1000\n",
    "\n",
    "for ii in range(T_min,T_max):\n",
    "    T=ii\n",
    "    #Retrieving action selection matrix from SophAgent\n",
    "    QLearned=QAgent(T,training_loops)\n",
    "\n",
    "    score=0\n",
    "    for j in range(test_trials):\n",
    "    \n",
    "        #episode-start\n",
    "        x=start_x\n",
    "        y=start_y\n",
    "        for i in range(0,T-1):\n",
    "            kingsmoves=[0,1,2,3,4,5,6,7]\n",
    "            action=np.argmax(QLearned[x-1,y-1,:])\n",
    "            [xp,yp,reward]=Environment3(x,y,action)\n",
    "            x=xp\n",
    "            y=yp\n",
    "            if(x==goal_x and y==goal_y):\n",
    "                score+=1\n",
    "                break\n",
    "    Time_horizon.append(ii)            \n",
    "    SuccessRateQ5K.append(score/test_trials)"
   ]
  },
  {
   "cell_type": "code",
   "execution_count": 6,
   "id": "8d04c01d",
   "metadata": {},
   "outputs": [],
   "source": [
    "#Experimenting success rate of Q_Agent from T=1 to T-15 training loops=10000\n",
    "SuccessRateQ10K=[]\n",
    "\n",
    "training_loops=10000\n",
    "test_trials=1000\n",
    "\n",
    "for ii in range(T_min,T_max):\n",
    "    T=ii\n",
    "    #Retrieving action selection matrix from SophAgent\n",
    "    QLearned=QAgent(T,training_loops)\n",
    "\n",
    "    score=0\n",
    "    for j in range(test_trials):\n",
    "    \n",
    "        #episode-start\n",
    "        x=start_x\n",
    "        y=start_y\n",
    "        for i in range(0,T-1):\n",
    "            kingsmoves=[0,1,2,3,4,5,6,7]\n",
    "            action=np.argmax(QLearned[x-1,y-1,:])\n",
    "            [xp,yp,reward]=Environment3(x,y,action)\n",
    "            x=xp\n",
    "            y=yp\n",
    "            if(x==goal_x and y==goal_y):\n",
    "                score+=1\n",
    "                break\n",
    "         \n",
    "    SuccessRateQ10K.append(score/test_trials)"
   ]
  },
  {
   "cell_type": "code",
   "execution_count": 7,
   "id": "81dc06ef",
   "metadata": {},
   "outputs": [],
   "source": [
    "#Sophisticated Inference Agent\n",
    "\n",
    "T_max=10\n",
    "\n",
    "SuccessRateSI=[]\n",
    "import numpy as np\n",
    "ActionProb=np.zeros((T_max,numA,T_max-1));\n",
    "input = np.loadtxt(\"ActionProb.txt\", dtype='float64', delimiter='\\t')\n",
    "P=np.zeros((T_max,numA,T_max-1))\n",
    "for i in range(T_max):\n",
    "    P[i,:,:]=np.reshape(input[i,:], (numA, T_max-1), order='F')\n",
    "    \n",
    "\n",
    "#Trials using P\n",
    "test_trials=10000\n",
    "for ii in range(T_min,T_max+1):\n",
    "    T=ii\n",
    "    \n",
    "    score=0\n",
    "    for j in range(test_trials):\n",
    "    \n",
    "        #episode-start\n",
    "        x=start_x\n",
    "        y=start_y\n",
    "        for i in range(0,T-1):\n",
    "            kingsmoves=[0,1,2,3,4,5,6,7]\n",
    "            action=np.random.choice([0,1,2,3,4,5,6,7],p=P[ii-1,:,i])\n",
    "            [xp,yp,reward]=Environment3(x,y,action)\n",
    "            x=xp\n",
    "            y=yp\n",
    "            if(x==goal_x and y==goal_y):\n",
    "                score+=1\n",
    "                break\n",
    "         \n",
    "    SuccessRateSI.append(score/test_trials)"
   ]
  },
  {
   "cell_type": "code",
   "execution_count": 10,
   "id": "1dd6bece",
   "metadata": {},
   "outputs": [
    {
     "name": "stderr",
     "output_type": "stream",
     "text": [
      "The PostScript backend does not support transparency; partially transparent artists will be rendered opaque.\n",
      "The PostScript backend does not support transparency; partially transparent artists will be rendered opaque.\n"
     ]
    },
    {
     "data": {
      "image/png": "[encoded data removed]",
      "text/plain": [
       "<Figure size 432x288 with 1 Axes>"
      ]
     },
     "metadata": {
      "needs_background": "light"
     },
     "output_type": "display_data"
    }
   ],
   "source": [
    "import matplotlib.pyplot as plt\n",
    "plt.plot(Time_horizon,SuccessRateSI,color='red')\n",
    "plt.plot(Time_horizon,SuccessRateQ5K,color='orange')\n",
    "plt.plot(Time_horizon,SuccessRateQ10K,color='black')\n",
    "plt.legend([\"SophAgent\",\"QLearning5K\",\"QLearning10K\"])\n",
    "plt.title(\"Medium stochastic case (Level 5)\")\n",
    "plt.xlabel(\"Time-horizon\")\n",
    "plt.ylabel(\"Success rate over $10^3$ trials\")\n",
    "plt.savefig('ResultsLevel-5BA.eps',format='eps', dpi=500, bbox_inches='tight')"
   ]
  }
 ],
 "metadata": {
  "@webio": {
   "lastCommId": null,
   "lastKernelId": null
  },
  "kernelspec": {
   "display_name": "Python 3",
   "language": "python",
   "name": "python3"
  },
  "language_info": {
   "codemirror_mode": {
    "name": "ipython",
    "version": 3
   },
   "file_extension": ".py",
   "mimetype": "text/x-python",
   "name": "python",
   "nbconvert_exporter": "python",
   "pygments_lexer": "ipython3",
   "version": "3.7.10"
  }
 },
 "nbformat": 4,
 "nbformat_minor": 5
}
