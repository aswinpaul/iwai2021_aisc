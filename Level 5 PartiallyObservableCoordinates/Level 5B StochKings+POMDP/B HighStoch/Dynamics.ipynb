{
 "cells": [
  {
   "cell_type": "code",
   "execution_count": 1,
   "id": "ea544a50",
   "metadata": {},
   "outputs": [],
   "source": [
    "from env_2_stochastic_high import ImportDynamics"
   ]
  },
  {
   "cell_type": "code",
   "execution_count": 2,
   "id": "2593cf10",
   "metadata": {},
   "outputs": [],
   "source": [
    "T=ImportDynamics()\n",
    "import numpy as np"
   ]
  },
  {
   "cell_type": "code",
   "execution_count": 3,
   "id": "bc48aff2",
   "metadata": {},
   "outputs": [],
   "source": [
    "with open('TransDyn.txt', 'w') as outfile:\n",
    "    for i in range(8):\n",
    "        np.savetxt(outfile, T[:,i,:], fmt=\"%s\")"
   ]
  },
  {
   "cell_type": "code",
   "execution_count": null,
   "id": "edcecac5",
   "metadata": {},
   "outputs": [],
   "source": []
  }
 ],
 "metadata": {
  "kernelspec": {
   "display_name": "Python 3",
   "language": "python",
   "name": "python3"
  },
  "language_info": {
   "codemirror_mode": {
    "name": "ipython",
    "version": 3
   },
   "file_extension": ".py",
   "mimetype": "text/x-python",
   "name": "python",
   "nbconvert_exporter": "python",
   "pygments_lexer": "ipython3",
   "version": "3.7.10"
  }
 },
 "nbformat": 4,
 "nbformat_minor": 5
}
